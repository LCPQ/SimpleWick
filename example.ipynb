{
 "cells": [
  {
   "cell_type": "code",
   "execution_count": 1,
   "id": "78dce128",
   "metadata": {},
   "outputs": [],
   "source": [
    "import sys\n",
    "sys.path.append('/home/ydamour/tmpdir/SimpleWick')\n",
    "import wick as w"
   ]
  },
  {
   "cell_type": "markdown",
   "id": "2822aef5",
   "metadata": {},
   "source": [
    "### Declaration of a string of second quantized operators\n",
    "- 1: orbital class, i for occupied, a for unoccupied (for Fermi vacuum). For the true vacuum, use a.\n",
    "- 2: orbital label\n",
    "- 3: operator type, + for creation, - for annihilation\n",
    "- 4: spin, a for $\\alpha$, b for $\\beta$, g for general (could be $\\alpha$ or $\\beta$)\n",
    "- 5: optional, to avoid contraction between some operators (two operators with the same 5th index cannot be contracted together)."
   ]
  },
  {
   "cell_type": "code",
   "execution_count": 11,
   "id": "521cb623",
   "metadata": {},
   "outputs": [],
   "source": [
    "s = ['ip+g','aq-g','ir-g','is+g','at+g','iu-g']\n",
    "#s = ['ix+g','iy+g','aw-g','av-g','iq+g','ip-g']"
   ]
  },
  {
   "cell_type": "markdown",
   "id": "ad9cc3cd",
   "metadata": {},
   "source": [
    "From this, we can call the function \"do_wick\" on s to apply Wick's theorem and generate 3 lists, one for the signs, one for the kronecker delta and one for the normal ordered string containing the remaining uncontracted operators (WARNING: the operators are not put in normal order in these strings, but you can reorder them since it will only change the sign. That's why we write them as $\\{...\\}_N$)."
   ]
  },
  {
   "cell_type": "code",
   "execution_count": 13,
   "id": "730edf4f",
   "metadata": {},
   "outputs": [
    {
     "name": "stdout",
     "output_type": "stream",
     "text": [
      "1 [] ['ip+g', 'aq-g', 'ir-g', 'is+g', 'at+g', 'iu-g']\n",
      "1 [['aq-g', 'at+g']] ['ip+g', 'ir-g', 'is+g', 'iu-g']\n",
      "-1 [['ip+g', 'ir-g']] ['aq-g', 'is+g', 'at+g', 'iu-g']\n",
      "1 [['ip+g', 'iu-g']] ['aq-g', 'ir-g', 'is+g', 'at+g']\n",
      "-1 [['is+g', 'iu-g']] ['ip+g', 'aq-g', 'ir-g', 'at+g']\n",
      "1 [['ip+g', 'ir-g'], ['aq-g', 'at+g']] ['is+g', 'iu-g']\n",
      "1 [['ip+g', 'iu-g'], ['aq-g', 'at+g']] ['ir-g', 'is+g']\n",
      "-1 [['is+g', 'iu-g'], ['aq-g', 'at+g']] ['ip+g', 'ir-g']\n",
      "1 [['ip+g', 'ir-g'], ['is+g', 'iu-g']] ['aq-g', 'at+g']\n",
      "-1 [['ip+g', 'ir-g'], ['is+g', 'iu-g'], ['aq-g', 'at+g']] []\n"
     ]
    }
   ],
   "source": [
    "list_sign, list_deltas, list_string = w.do_wick(s)\n",
    "for sign,deltas,string in zip(list_sign, list_deltas, list_string):\n",
    "    print(sign,deltas,string)"
   ]
  },
  {
   "cell_type": "markdown",
   "id": "2e2761b4",
   "metadata": {},
   "source": [
    "From this, for each tuple (sign, deltas, string) we can create an object \n",
    "with Wicked_str and display the result:"
   ]
  },
  {
   "cell_type": "code",
   "execution_count": 14,
   "id": "d6882c1f",
   "metadata": {},
   "outputs": [
    {
     "data": {
      "text/latex": [
       "$+ \\left\\{i^{\\dagger}_{p_{g}}a^{}_{q_{g}}i^{}_{r_{g}}i^{\\dagger}_{s_{g}}a^{\\dagger}_{t_{g}}i^{}_{u_{g}}\\right\\}_N$"
      ],
      "text/plain": [
       "<IPython.core.display.Latex object>"
      ]
     },
     "metadata": {},
     "output_type": "display_data"
    },
    {
     "data": {
      "text/latex": [
       "$+ \\delta(q_{},t_{}) \\ \\left\\{i^{\\dagger}_{p_{g}}i^{}_{r_{g}}i^{\\dagger}_{s_{g}}i^{}_{u_{g}}\\right\\}_N$"
      ],
      "text/plain": [
       "<IPython.core.display.Latex object>"
      ]
     },
     "metadata": {},
     "output_type": "display_data"
    },
    {
     "data": {
      "text/latex": [
       "$- \\delta(p_{},r_{}) \\ \\left\\{a^{}_{q_{g}}i^{\\dagger}_{s_{g}}a^{\\dagger}_{t_{g}}i^{}_{u_{g}}\\right\\}_N$"
      ],
      "text/plain": [
       "<IPython.core.display.Latex object>"
      ]
     },
     "metadata": {},
     "output_type": "display_data"
    },
    {
     "data": {
      "text/latex": [
       "$+ \\delta(p_{},u_{}) \\ \\left\\{a^{}_{q_{g}}i^{}_{r_{g}}i^{\\dagger}_{s_{g}}a^{\\dagger}_{t_{g}}\\right\\}_N$"
      ],
      "text/plain": [
       "<IPython.core.display.Latex object>"
      ]
     },
     "metadata": {},
     "output_type": "display_data"
    },
    {
     "data": {
      "text/latex": [
       "$- \\delta(s_{},u_{}) \\ \\left\\{i^{\\dagger}_{p_{g}}a^{}_{q_{g}}i^{}_{r_{g}}a^{\\dagger}_{t_{g}}\\right\\}_N$"
      ],
      "text/plain": [
       "<IPython.core.display.Latex object>"
      ]
     },
     "metadata": {},
     "output_type": "display_data"
    },
    {
     "data": {
      "text/latex": [
       "$+ \\delta(p_{},r_{}) \\ \\delta(q_{},t_{}) \\ \\left\\{i^{\\dagger}_{s_{g}}i^{}_{u_{g}}\\right\\}_N$"
      ],
      "text/plain": [
       "<IPython.core.display.Latex object>"
      ]
     },
     "metadata": {},
     "output_type": "display_data"
    },
    {
     "data": {
      "text/latex": [
       "$+ \\delta(p_{},u_{}) \\ \\delta(q_{},t_{}) \\ \\left\\{i^{}_{r_{g}}i^{\\dagger}_{s_{g}}\\right\\}_N$"
      ],
      "text/plain": [
       "<IPython.core.display.Latex object>"
      ]
     },
     "metadata": {},
     "output_type": "display_data"
    },
    {
     "data": {
      "text/latex": [
       "$- \\delta(s_{},u_{}) \\ \\delta(q_{},t_{}) \\ \\left\\{i^{\\dagger}_{p_{g}}i^{}_{r_{g}}\\right\\}_N$"
      ],
      "text/plain": [
       "<IPython.core.display.Latex object>"
      ]
     },
     "metadata": {},
     "output_type": "display_data"
    },
    {
     "data": {
      "text/latex": [
       "$+ \\delta(p_{},r_{}) \\ \\delta(s_{},u_{}) \\ \\left\\{a^{}_{q_{g}}a^{\\dagger}_{t_{g}}\\right\\}_N$"
      ],
      "text/plain": [
       "<IPython.core.display.Latex object>"
      ]
     },
     "metadata": {},
     "output_type": "display_data"
    },
    {
     "data": {
      "text/latex": [
       "$- \\delta(p_{},r_{}) \\ \\delta(s_{},u_{}) \\ \\delta(q_{},t_{}) \\ $"
      ],
      "text/plain": [
       "<IPython.core.display.Latex object>"
      ]
     },
     "metadata": {},
     "output_type": "display_data"
    }
   ],
   "source": [
    "for sign,deltas,string in zip(list_sign, list_deltas, list_string):\n",
    "    # Creates an object Wicked_str to print or display latex code \n",
    "    obj = w.Wicked_str(sign,deltas,string)\n",
    "    # to print the each element of the result with latex format\n",
    "    obj.eq_show()"
   ]
  },
  {
   "cell_type": "markdown",
   "id": "7da7f72f",
   "metadata": {},
   "source": [
    "Or generate some latex code:"
   ]
  },
  {
   "cell_type": "code",
   "execution_count": 15,
   "id": "2c4ae798",
   "metadata": {},
   "outputs": [
    {
     "name": "stdout",
     "output_type": "stream",
     "text": [
      "+ \\left\\{i^{\\dagger}_{p_{g}}a^{}_{q_{g}}i^{}_{r_{g}}i^{\\dagger}_{s_{g}}a^{\\dagger}_{t_{g}}i^{}_{u_{g}}\\right\\}_N\n",
      "+ \\delta(q_{},t_{}) \\ \\left\\{i^{\\dagger}_{p_{g}}i^{}_{r_{g}}i^{\\dagger}_{s_{g}}i^{}_{u_{g}}\\right\\}_N\n",
      "- \\delta(p_{},r_{}) \\ \\left\\{a^{}_{q_{g}}i^{\\dagger}_{s_{g}}a^{\\dagger}_{t_{g}}i^{}_{u_{g}}\\right\\}_N\n",
      "+ \\delta(p_{},u_{}) \\ \\left\\{a^{}_{q_{g}}i^{}_{r_{g}}i^{\\dagger}_{s_{g}}a^{\\dagger}_{t_{g}}\\right\\}_N\n",
      "- \\delta(s_{},u_{}) \\ \\left\\{i^{\\dagger}_{p_{g}}a^{}_{q_{g}}i^{}_{r_{g}}a^{\\dagger}_{t_{g}}\\right\\}_N\n",
      "+ \\delta(p_{},r_{}) \\ \\delta(q_{},t_{}) \\ \\left\\{i^{\\dagger}_{s_{g}}i^{}_{u_{g}}\\right\\}_N\n",
      "+ \\delta(p_{},u_{}) \\ \\delta(q_{},t_{}) \\ \\left\\{i^{}_{r_{g}}i^{\\dagger}_{s_{g}}\\right\\}_N\n",
      "- \\delta(s_{},u_{}) \\ \\delta(q_{},t_{}) \\ \\left\\{i^{\\dagger}_{p_{g}}i^{}_{r_{g}}\\right\\}_N\n",
      "+ \\delta(p_{},r_{}) \\ \\delta(s_{},u_{}) \\ \\left\\{a^{}_{q_{g}}a^{\\dagger}_{t_{g}}\\right\\}_N\n",
      "- \\delta(p_{},r_{}) \\ \\delta(s_{},u_{}) \\ \\delta(q_{},t_{}) \\ \n"
     ]
    }
   ],
   "source": [
    "for sign,deltas,string in zip(list_sign, list_deltas, list_string):\n",
    "    # Creates an object Wicked_str to print or display latex code \n",
    "    obj = w.Wicked_str(sign,deltas,string)\n",
    "    # to show the latex equation in a Jupyter Notebook\n",
    "    obj.tex_show()"
   ]
  },
  {
   "cell_type": "code",
   "execution_count": null,
   "id": "b25bf9c2",
   "metadata": {},
   "outputs": [],
   "source": []
  }
 ],
 "metadata": {
  "kernelspec": {
   "display_name": "Python 3 (ipykernel)",
   "language": "python",
   "name": "python3"
  },
  "language_info": {
   "codemirror_mode": {
    "name": "ipython",
    "version": 3
   },
   "file_extension": ".py",
   "mimetype": "text/x-python",
   "name": "python",
   "nbconvert_exporter": "python",
   "pygments_lexer": "ipython3",
   "version": "3.7.11"
  }
 },
 "nbformat": 4,
 "nbformat_minor": 5
}
